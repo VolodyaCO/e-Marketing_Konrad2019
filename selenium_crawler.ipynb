{
 "cells": [
  {
   "cell_type": "markdown",
   "metadata": {},
   "source": [
    "# Instala las librerías necesarias:\n",
    "\n",
    "`pip install selenium beautifulsoup4`"
   ]
  },
  {
   "cell_type": "code",
   "execution_count": 1,
   "metadata": {},
   "outputs": [
    {
     "name": "stdout",
     "output_type": "stream",
     "text": [
      "Collecting selenium\n",
      "\u001b[?25l  Downloading https://files.pythonhosted.org/packages/80/d6/4294f0b4bce4de0abf13e17190289f9d0613b0a44e5dd6a7f5ca98459853/selenium-3.141.0-py2.py3-none-any.whl (904kB)\n",
      "\u001b[K     |████████████████████████████████| 911kB 12.1MB/s eta 0:00:01\n",
      "\u001b[?25hRequirement already satisfied: beautifulsoup4 in /home/ingenieria/Escritorio/1234/lib/python3.7/site-packages (4.8.0)\n",
      "Requirement already satisfied: urllib3 in /home/ingenieria/Escritorio/1234/lib/python3.7/site-packages (from selenium) (1.24.2)\n",
      "Requirement already satisfied: soupsieve>=1.2 in /home/ingenieria/Escritorio/1234/lib/python3.7/site-packages (from beautifulsoup4) (1.9.3)\n",
      "Installing collected packages: selenium\n",
      "Successfully installed selenium-3.141.0\n"
     ]
    }
   ],
   "source": [
    "!pip install selenium beautifulsoup4"
   ]
  },
  {
   "cell_type": "markdown",
   "metadata": {},
   "source": [
    "# Instalar Google Chrome en Linux"
   ]
  },
  {
   "cell_type": "code",
   "execution_count": 2,
   "metadata": {},
   "outputs": [
    {
     "name": "stdout",
     "output_type": "stream",
     "text": [
      "--2019-11-29 11:05:32--  https://dl.google.com/linux/direct/google-chrome-stable_current_amd64.deb\n",
      "Resolviendo dl.google.com (dl.google.com)... 172.217.7.174, 2607:f8b0:4004:800::200e\n",
      "Conectando con dl.google.com (dl.google.com)[172.217.7.174]:443... conectado.\n",
      "Petición HTTP enviada, esperando respuesta... 200 OK\n",
      "Longitud: 62950548 (60M) [application/x-debian-package]\n",
      "Guardando como: “google-chrome-stable_current_amd64.deb”\n",
      "\n",
      "google-chrome-stabl 100%[===================>]  60,03M  1,44MB/s    en 41s     \n",
      "\n",
      "2019-11-29 11:06:13 (1,46 MB/s) - “google-chrome-stable_current_amd64.deb” guardado [62950548/62950548]\n",
      "\n"
     ]
    }
   ],
   "source": [
    "!wget https://dl.google.com/linux/direct/google-chrome-stable_current_amd64.deb"
   ]
  },
  {
   "cell_type": "code",
   "execution_count": 4,
   "metadata": {},
   "outputs": [
    {
     "name": "stdout",
     "output_type": "stream",
     "text": [
      "[sudo] contraseña para ingenieria: Seleccionando el paquete google-chrome-stable previamente no seleccionado.\n",
      "(Leyendo la base de datos ... 191811 ficheros o directorios instalados actualmente.)\n",
      "Preparando para desempaquetar google-chrome-stable_current_amd64.deb ...\n",
      "Desempaquetando google-chrome-stable (78.0.3904.108-1) ...\n",
      "Configurando google-chrome-stable (78.0.3904.108-1) ...\n",
      "update-alternatives: utilizando /usr/bin/google-chrome-stable para proveer /usr/bin/x-www-browser (x-www-browser) en modo automático\n",
      "update-alternatives: utilizando /usr/bin/google-chrome-stable para proveer /usr/bin/gnome-www-browser (gnome-www-browser) en modo automático\n",
      "update-alternatives: utilizando /usr/bin/google-chrome-stable para proveer /usr/bin/google-chrome (google-chrome) en modo automático\n",
      "Procesando disparadores para gnome-menus (3.13.3-11ubuntu1.1) ...\n",
      "Procesando disparadores para desktop-file-utils (0.23-1ubuntu3.18.04.2) ...\n",
      "Procesando disparadores para mime-support (3.60ubuntu1) ...\n",
      "Procesando disparadores para man-db (2.8.3-2ubuntu0.1) ...\n"
     ]
    }
   ],
   "source": [
    "!echo 1234|sudo -S dpkg -i google-chrome-stable_current_amd64.deb"
   ]
  },
  {
   "cell_type": "markdown",
   "metadata": {},
   "source": [
    "# Bajar ChromeDriver\n",
    "\n",
    "[Acá](https://chromedriver.chromium.org/downloads) puedes encontrar las diferentes versiones de ChromeDriver. Chequea tu versión de google Chrome para bajar el driver correcto"
   ]
  },
  {
   "cell_type": "code",
   "execution_count": 6,
   "metadata": {},
   "outputs": [
    {
     "name": "stdout",
     "output_type": "stream",
     "text": [
      "Google Chrome 78.0.3904.108 \r\n"
     ]
    }
   ],
   "source": [
    "!google-chrome --version"
   ]
  },
  {
   "cell_type": "code",
   "execution_count": 7,
   "metadata": {},
   "outputs": [
    {
     "name": "stdout",
     "output_type": "stream",
     "text": [
      "1_Introducción_a_Python_y_Pandas.ipynb\tPipfile\r\n",
      "california_housing_train.csv\t\tPipfile.lock\r\n",
      "chromedriver\t\t\t\tppc_suba_comentarios.json\r\n",
      "chromedriver_linux64.zip\t\tREADME.md\r\n",
      "crawl_all_restaurants.ipynb\t\trestaurantes_links.p\r\n",
      "google-chrome-stable_current_amd64.deb\tselenium_crawler.ipynb\r\n",
      "online_shoppers_intention.csv\t\tspider.py\r\n"
     ]
    }
   ],
   "source": [
    "!ls"
   ]
  },
  {
   "cell_type": "code",
   "execution_count": 8,
   "metadata": {},
   "outputs": [],
   "source": [
    "from selenium import webdriver\n",
    "from selenium.webdriver.common.keys import Keys\n",
    "from bs4 import BeautifulSoup"
   ]
  },
  {
   "cell_type": "code",
   "execution_count": 20,
   "metadata": {},
   "outputs": [],
   "source": [
    "driver = webdriver.Chrome(executable_path=\"./chromedriver\")\n",
    "driver.get(\"https://domicilios.com/restaurantes/bogota/ppc-suba-menu?t=comentarios\")"
   ]
  },
  {
   "cell_type": "code",
   "execution_count": 21,
   "metadata": {},
   "outputs": [],
   "source": [
    "html = driver.page_source\n",
    "soup = BeautifulSoup(html, 'html.parser')"
   ]
  },
  {
   "cell_type": "code",
   "execution_count": 14,
   "metadata": {},
   "outputs": [],
   "source": [
    "s = soup.select(\"#reviewList > li\")"
   ]
  },
  {
   "cell_type": "code",
   "execution_count": 15,
   "metadata": {},
   "outputs": [],
   "source": [
    "info = []\n",
    "for review in soup.select(\"#reviewList > li\"):\n",
    "    text = review.select(\"[itemprop='description']\")[0].get_text()\n",
    "    author = review.select(\"div.small\")[0].get_text()\n",
    "    previousOrders = review.select(\"div.small\")[1][\"title\"].split()[0]\n",
    "    previousReviews = review.select(\"div.small\")[2][\"title\"].split()[0]\n",
    "    date = review.select(\"[itemprop='datePublished']\")[0].get_text()\n",
    "    worstRating = review.select(\"[itemprop='worstRating']\")[0][\"content\"]\n",
    "    ratingValue = review.select(\"[itemprop='ratingValue']\")[0][\"content\"]\n",
    "    bestRating = review.select(\"[itemprop='bestRating']\")[0][\"content\"]\n",
    "    infoReview = dict(text=text, author=author, previousOrders=previousOrders, previousReviews=previousReviews,\n",
    "                     date=date, worstRating=worstRating, ratingValue=ratingValue, bestRating=bestRating)\n",
    "    info.append(infoReview)"
   ]
  },
  {
   "cell_type": "code",
   "execution_count": 16,
   "metadata": {},
   "outputs": [
    {
     "name": "stdout",
     "output_type": "stream",
     "text": [
      "[{'text': 'Parecía arroz del día anterior, trasnochado y de mal gusto', 'author': 'Raul fernando', 'previousOrders': '2', 'previousReviews': '0', 'date': '21 sep, 2019', 'worstRating': '1', 'ratingValue': '3.7', 'bestRating': '5'}, {'text': 'El pollo más rico que tiene colombia ❤?❤?', 'author': 'Andres  ramos', 'previousOrders': '25', 'previousReviews': '0', 'date': '25 jul, 2019', 'worstRating': '1', 'ratingValue': '5.0', 'bestRating': '5'}, {'text': 'redimi y cupón de $7.000 y me cobraron la cuenta completa sin el descuento del cupon', 'author': 'Camilo espitia', 'previousOrders': '266', 'previousReviews': '0', 'date': '20 jun, 2019', 'worstRating': '1', 'ratingValue': '4.0', 'bestRating': '5'}, {'text': 'Excelente servicio, el domiciliario es muy respetuoso y amable', 'author': 'Laura sanchez', 'previousOrders': '274', 'previousReviews': '0', 'date': '09 jun, 2019', 'worstRating': '1', 'ratingValue': '5.0', 'bestRating': '5'}, {'text': 'Gratamente Sorprendida, han Mejorado la calidad del servicio ', 'author': 'Luz angela franco gallego', 'previousOrders': '98', 'previousReviews': '0', 'date': '03 jun, 2019', 'worstRating': '1', 'ratingValue': '4.5', 'bestRating': '5'}, {'text': 'Excelente todo. Gracias por leer los comentarios!', 'author': 'Marcela morales', 'previousOrders': '68', 'previousReviews': '0', 'date': '03 jun, 2019', 'worstRating': '1', 'ratingValue': '5.0', 'bestRating': '5'}, {'text': 'Buen servicio.  Un poco demorado en llegar pero es entendible. Podían tener mucho trabajo en esa hora. La comida que me llego muy muy muuuy regular, mal sabor, me hizo daño, no pude comer todo ya que no era agradable el sabor  ', 'author': 'Diego benitez', 'previousOrders': '24', 'previousReviews': '0', 'date': '02 jun, 2019', 'worstRating': '1', 'ratingValue': '2.0', 'bestRating': '5'}, {'text': 'llego muy tarde y fuera de todo incompleto', 'author': '7856194_name', 'previousOrders': '220', 'previousReviews': '0', 'date': '01 jun, 2019', 'worstRating': '1', 'ratingValue': '3.0', 'bestRating': '5'}, {'text': 'No cumplió Con El Tiempo Mostrado En El Momento De La Compra. ', 'author': 'Jaris meza cantillo', 'previousOrders': '15', 'previousReviews': '0', 'date': '01 jun, 2019', 'worstRating': '1', 'ratingValue': '3.5', 'bestRating': '5'}, {'text': 'No ayudan a solucionar ', 'author': 'Andrea martinez', 'previousOrders': '27', 'previousReviews': '0', 'date': '01 jun, 2019', 'worstRating': '1', 'ratingValue': '2.5', 'bestRating': '5'}]\n"
     ]
    }
   ],
   "source": [
    "print(info)"
   ]
  },
  {
   "cell_type": "code",
   "execution_count": 22,
   "metadata": {},
   "outputs": [
    {
     "name": "stdout",
     "output_type": "stream",
     "text": [
      "2\n"
     ]
    }
   ],
   "source": [
    "button = driver.find_element_by_css_selector(\"#reviewListContainer > footer > ul > li.arrow.next > button\")\n",
    "print(button.get_attribute(\"data-page\"))\n",
    "button.click()"
   ]
  },
  {
   "cell_type": "code",
   "execution_count": 23,
   "metadata": {},
   "outputs": [],
   "source": [
    "driver.quit()"
   ]
  },
  {
   "cell_type": "markdown",
   "metadata": {},
   "source": [
    "# Todo funciona perfecto! :-D\n",
    "\n",
    "Ahora volvamos esto una función para iterar sobre todas las páginas de los comentarios de nuestro restaurante de ejemplo"
   ]
  },
  {
   "cell_type": "code",
   "execution_count": 40,
   "metadata": {},
   "outputs": [],
   "source": [
    "import time"
   ]
  },
  {
   "cell_type": "code",
   "execution_count": 47,
   "metadata": {},
   "outputs": [],
   "source": [
    "def download_domicilios(website):\n",
    "    driver = webdriver.Chrome(executable_path=\"./chromedriver\")\n",
    "    driver.get(website)\n",
    "    driver.implicitly_wait(100)\n",
    "    info = []\n",
    "    pages = []\n",
    "    while True:\n",
    "        try:\n",
    "            html = driver.page_source ###\n",
    "            soup = BeautifulSoup(html, 'html.parser')  ###\n",
    "            button = driver.find_element_by_css_selector(\"#reviewListContainer > footer > ul > li.arrow.next > button\")\n",
    "            numPage = button.get_attribute(\"data-page\")\n",
    "            print('Currently at page {0}'.format(numPage))\n",
    "            if numPage == '10':\n",
    "                driver.quit()\n",
    "                raise ValueError(\"numPage {0} was already visited\".format(numPage))\n",
    "            else:\n",
    "                pages.append(numPage)\n",
    "            for review in soup.select(\"#reviewList > li\"):\n",
    "                text = review.select(\"[itemprop='description']\")[0].get_text()\n",
    "                author = review.select(\"div.small\")[0].get_text()\n",
    "                previousOrders = review.select(\"div.small\")[1][\"title\"].split()[0]\n",
    "                previousReviews = review.select(\"div.small\")[2][\"title\"].split()[0]\n",
    "                date = review.select(\"[itemprop='datePublished']\")[0].get_text()\n",
    "                worstRating = review.select(\"[itemprop='worstRating']\")[0][\"content\"]\n",
    "                ratingValue = review.select(\"[itemprop='ratingValue']\")[0][\"content\"]\n",
    "                bestRating = review.select(\"[itemprop='bestRating']\")[0][\"content\"]\n",
    "                infoReview = dict(text=text, author=author, previousOrders=previousOrders, previousReviews=previousReviews,\n",
    "                                 date=date, worstRating=worstRating, ratingValue=ratingValue, bestRating=bestRating)\n",
    "                info.append(infoReview)\n",
    "            time.sleep(3)\n",
    "            button.click()\n",
    "        except Exception as e:\n",
    "            print(e)\n",
    "            break\n",
    "    return info"
   ]
  },
  {
   "cell_type": "code",
   "execution_count": 48,
   "metadata": {},
   "outputs": [
    {
     "name": "stdout",
     "output_type": "stream",
     "text": [
      "Currently at page 2\n",
      "Currently at page 3\n",
      "Currently at page 4\n",
      "Currently at page 5\n",
      "Currently at page 6\n",
      "Currently at page 7\n",
      "Currently at page 8\n",
      "Currently at page 9\n",
      "Currently at page 10\n",
      "numPage 10 was already visited\n"
     ]
    }
   ],
   "source": [
    "info = download_domicilios(\"https://domicilios.com/restaurantes/bogota/ppc-suba-menu?t=comentarios\")"
   ]
  },
  {
   "cell_type": "code",
   "execution_count": 52,
   "metadata": {},
   "outputs": [
    {
     "data": {
      "text/plain": [
       "[{'text': 'Parecía arroz del día anterior, trasnochado y de mal gusto',\n",
       "  'author': 'Raul fernando',\n",
       "  'previousOrders': '2',\n",
       "  'previousReviews': '0',\n",
       "  'date': '21 sep, 2019',\n",
       "  'worstRating': '1',\n",
       "  'ratingValue': '3.7',\n",
       "  'bestRating': '5'},\n",
       " {'text': 'El pollo más rico que tiene colombia ❤?❤?',\n",
       "  'author': 'Andres  ramos',\n",
       "  'previousOrders': '25',\n",
       "  'previousReviews': '0',\n",
       "  'date': '25 jul, 2019',\n",
       "  'worstRating': '1',\n",
       "  'ratingValue': '5.0',\n",
       "  'bestRating': '5'},\n",
       " {'text': 'redimi y cupón de $7.000 y me cobraron la cuenta completa sin el descuento del cupon',\n",
       "  'author': 'Camilo espitia',\n",
       "  'previousOrders': '266',\n",
       "  'previousReviews': '0',\n",
       "  'date': '20 jun, 2019',\n",
       "  'worstRating': '1',\n",
       "  'ratingValue': '4.0',\n",
       "  'bestRating': '5'},\n",
       " {'text': 'Excelente servicio, el domiciliario es muy respetuoso y amable',\n",
       "  'author': 'Laura sanchez',\n",
       "  'previousOrders': '274',\n",
       "  'previousReviews': '0',\n",
       "  'date': '09 jun, 2019',\n",
       "  'worstRating': '1',\n",
       "  'ratingValue': '5.0',\n",
       "  'bestRating': '5'},\n",
       " {'text': 'Gratamente Sorprendida, han Mejorado la calidad del servicio ',\n",
       "  'author': 'Luz angela franco gallego',\n",
       "  'previousOrders': '98',\n",
       "  'previousReviews': '0',\n",
       "  'date': '03 jun, 2019',\n",
       "  'worstRating': '1',\n",
       "  'ratingValue': '4.5',\n",
       "  'bestRating': '5'},\n",
       " {'text': 'Excelente todo. Gracias por leer los comentarios!',\n",
       "  'author': 'Marcela morales',\n",
       "  'previousOrders': '69',\n",
       "  'previousReviews': '0',\n",
       "  'date': '03 jun, 2019',\n",
       "  'worstRating': '1',\n",
       "  'ratingValue': '5.0',\n",
       "  'bestRating': '5'},\n",
       " {'text': 'Buen servicio.  Un poco demorado en llegar pero es entendible. Podían tener mucho trabajo en esa hora. La comida que me llego muy muy muuuy regular, mal sabor, me hizo daño, no pude comer todo ya que no era agradable el sabor  ',\n",
       "  'author': 'Diego benitez',\n",
       "  'previousOrders': '24',\n",
       "  'previousReviews': '0',\n",
       "  'date': '02 jun, 2019',\n",
       "  'worstRating': '1',\n",
       "  'ratingValue': '2.0',\n",
       "  'bestRating': '5'},\n",
       " {'text': 'llego muy tarde y fuera de todo incompleto',\n",
       "  'author': '7856194_name',\n",
       "  'previousOrders': '220',\n",
       "  'previousReviews': '0',\n",
       "  'date': '01 jun, 2019',\n",
       "  'worstRating': '1',\n",
       "  'ratingValue': '3.0',\n",
       "  'bestRating': '5'},\n",
       " {'text': 'No cumplió Con El Tiempo Mostrado En El Momento De La Compra. ',\n",
       "  'author': 'Jaris meza cantillo',\n",
       "  'previousOrders': '15',\n",
       "  'previousReviews': '0',\n",
       "  'date': '01 jun, 2019',\n",
       "  'worstRating': '1',\n",
       "  'ratingValue': '3.5',\n",
       "  'bestRating': '5'},\n",
       " {'text': 'No ayudan a solucionar ',\n",
       "  'author': 'Andrea martinez',\n",
       "  'previousOrders': '27',\n",
       "  'previousReviews': '0',\n",
       "  'date': '01 jun, 2019',\n",
       "  'worstRating': '1',\n",
       "  'ratingValue': '2.5',\n",
       "  'bestRating': '5'}]"
      ]
     },
     "execution_count": 52,
     "metadata": {},
     "output_type": "execute_result"
    }
   ],
   "source": [
    "info"
   ]
  },
  {
   "cell_type": "code",
   "execution_count": null,
   "metadata": {},
   "outputs": [],
   "source": [
    "import json\n",
    "\n",
    "with open(\"ppc_suba_comentarios.json\", \"w\") as f:\n",
    "    json.dump(info, f)"
   ]
  },
  {
   "cell_type": "code",
   "execution_count": 24,
   "metadata": {},
   "outputs": [],
   "source": [
    "import json\n",
    "\n",
    "with open(\"ppc_suba_comentarios.json\", \"r\") as f:\n",
    "    comentarios = json.load(f)"
   ]
  },
  {
   "cell_type": "code",
   "execution_count": 26,
   "metadata": {},
   "outputs": [
    {
     "data": {
      "text/plain": [
       "{'text': 'Parecía arroz del día anterior, trasnochado y de mal gusto',\n",
       " 'author': 'Raul fernando',\n",
       " 'previousOrders': '2',\n",
       " 'previousReviews': '0',\n",
       " 'date': '21 sep, 2019',\n",
       " 'worstRating': '1',\n",
       " 'ratingValue': '3.7',\n",
       " 'bestRating': '5'}"
      ]
     },
     "execution_count": 26,
     "metadata": {},
     "output_type": "execute_result"
    }
   ],
   "source": [
    "comentarios[0]"
   ]
  },
  {
   "cell_type": "code",
   "execution_count": 36,
   "metadata": {},
   "outputs": [
    {
     "data": {
      "text/plain": [
       "['hola', 'nombre', 'vladimir']"
      ]
     },
     "execution_count": 36,
     "metadata": {},
     "output_type": "execute_result"
    }
   ],
   "source": [
    "import nltk\n",
    "\n",
    "nltk.download(\"stopwords\")\n",
    "\n",
    "from nltk.corpus import stopwords\n",
    "\n",
    "def removeStopwords( palabras ):\n",
    "     return [ word for word in palabras if word\\\n",
    "             not in stopwords.words('spanish') ]\n",
    "    \n",
    "removeStopwords(\"de para cuando hola mi nombre es vladimir\".split())"
   ]
  },
  {
   "cell_type": "code",
   "execution_count": 37,
   "metadata": {},
   "outputs": [],
   "source": [
    "Rauldef remove_punct(text):\n",
    "    signos = \", . ; : ! ? ¿ ¡\".split()\n",
    "    for s in signos:\n",
    "        text = text.replace(s, \"\")\n",
    "    # Todo a minúsculas\n",
    "    text = text.lower()\n",
    "    text = \" \".join(removeStopwords(text.split()))\n",
    "    return text.lower()"
   ]
  },
  {
   "cell_type": "code",
   "execution_count": 38,
   "metadata": {},
   "outputs": [],
   "source": [
    "for com in comentarios:\n",
    "    com['texto_nopunct'] = remove_punct(com['text'])"
   ]
  },
  {
   "cell_type": "code",
   "execution_count": 39,
   "metadata": {},
   "outputs": [
    {
     "data": {
      "text/plain": [
       "{'text': 'Parecía arroz del día anterior, trasnochado y de mal gusto',\n",
       " 'author': 'Raul fernando',\n",
       " 'previousOrders': '2',\n",
       " 'previousReviews': '0',\n",
       " 'date': '21 sep, 2019',\n",
       " 'worstRating': '1',\n",
       " 'ratingValue': '3.7',\n",
       " 'bestRating': '5',\n",
       " 'texto_nopunct': 'parecía arroz día anterior trasnochado mal gusto'}"
      ]
     },
     "execution_count": 39,
     "metadata": {},
     "output_type": "execute_result"
    }
   ],
   "source": [
    "comentarios[0]"
   ]
  },
  {
   "cell_type": "code",
   "execution_count": 53,
   "metadata": {},
   "outputs": [
    {
     "name": "stdout",
     "output_type": "stream",
     "text": [
      "Collecting fasttext\n",
      "\u001b[?25l  Downloading https://files.pythonhosted.org/packages/10/61/2e01f1397ec533756c1d893c22d9d5ed3fce3a6e4af1976e0d86bb13ea97/fasttext-0.9.1.tar.gz (57kB)\n",
      "\u001b[K     |████████████████████████████████| 61kB 9.5MB/s  eta 0:00:01\n",
      "\u001b[?25hRequirement already satisfied: pybind11>=2.2 in /home/ingenieria/Escritorio/1234/lib/python3.7/site-packages (from fasttext) (2.4.3)\n",
      "Requirement already satisfied: setuptools>=0.7.0 in /home/ingenieria/Escritorio/1234/lib/python3.7/site-packages (from fasttext) (41.4.0)\n",
      "Requirement already satisfied: numpy in /home/ingenieria/Escritorio/1234/lib/python3.7/site-packages (from fasttext) (1.17.2)\n",
      "Building wheels for collected packages: fasttext\n",
      "  Building wheel for fasttext (setup.py) ... \u001b[?25ldone\n",
      "\u001b[?25h  Created wheel for fasttext: filename=fasttext-0.9.1-cp37-cp37m-linux_x86_64.whl size=2484310 sha256=2595de8ab862e39fd61dd1fb1b5a20301e4e901e3e01bc4b02265462eca9d1b7\n",
      "  Stored in directory: /home/ingenieria/.cache/pip/wheels/9f/f0/04/caa82c912aee89ce76358ff954f3f0729b7577c8ff23a292e3\n",
      "Successfully built fasttext\n",
      "Installing collected packages: fasttext\n",
      "Successfully installed fasttext-0.9.1\n"
     ]
    }
   ],
   "source": [
    "!pip install fasttext"
   ]
  },
  {
   "cell_type": "code",
   "execution_count": 54,
   "metadata": {},
   "outputs": [
    {
     "data": {
      "text/plain": [
       "1170"
      ]
     },
     "execution_count": 54,
     "metadata": {},
     "output_type": "execute_result"
    }
   ],
   "source": [
    "len(comentarios)"
   ]
  },
  {
   "cell_type": "code",
   "execution_count": 55,
   "metadata": {},
   "outputs": [],
   "source": [
    "with open(\"archivo.txt\", \"w\") as f:\n",
    "    for c in comentarios[:10]:\n",
    "        f.write(c['texto_nopunct'])\n",
    "        f.write(\"\\n\")"
   ]
  },
  {
   "cell_type": "code",
   "execution_count": 59,
   "metadata": {},
   "outputs": [],
   "source": [
    "import fasttext\n",
    "modelo = fasttext.train_unsupervised(\"archivo.txt\", dim=10)"
   ]
  },
  {
   "cell_type": "code",
   "execution_count": 60,
   "metadata": {},
   "outputs": [
    {
     "data": {
      "text/plain": [
       "array([-0.00724311, -0.01367409, -0.11141652, -0.15393221,  0.04881471,\n",
       "        0.11089667,  0.09096009, -0.11503991,  0.23437262, -0.1442636 ],\n",
       "      dtype=float32)"
      ]
     },
     "execution_count": 60,
     "metadata": {},
     "output_type": "execute_result"
    }
   ],
   "source": [
    "modelo.get_sentence_vector(\"faltan cuatro minutos para la una\")"
   ]
  },
  {
   "cell_type": "code",
   "execution_count": 62,
   "metadata": {},
   "outputs": [],
   "source": [
    "for com in comentarios[:10]:\n",
    "    com['vector'] = modelo.get_sentence_vector(com['texto_nopunct'])"
   ]
  },
  {
   "cell_type": "code",
   "execution_count": 64,
   "metadata": {},
   "outputs": [
    {
     "data": {
      "text/plain": [
       "{'text': 'Parecía arroz del día anterior, trasnochado y de mal gusto',\n",
       " 'author': 'Raul fernando',\n",
       " 'previousOrders': '2',\n",
       " 'previousReviews': '0',\n",
       " 'date': '21 sep, 2019',\n",
       " 'worstRating': '1',\n",
       " 'ratingValue': '3.7',\n",
       " 'bestRating': '5',\n",
       " 'texto_nopunct': 'parecía arroz día anterior trasnochado mal gusto',\n",
       " 'vector': array([-0.15319133,  0.06751906,  0.13427433,  0.0425053 , -0.11566053,\n",
       "         0.10251003, -0.05255435, -0.04850954,  0.03822632, -0.03976798],\n",
       "       dtype=float32)}"
      ]
     },
     "execution_count": 64,
     "metadata": {},
     "output_type": "execute_result"
    }
   ],
   "source": [
    "comentarios[0]"
   ]
  },
  {
   "cell_type": "code",
   "execution_count": null,
   "metadata": {},
   "outputs": [],
   "source": []
  }
 ],
 "metadata": {
  "kernelspec": {
   "display_name": "Python 3",
   "language": "python",
   "name": "python3"
  },
  "language_info": {
   "codemirror_mode": {
    "name": "ipython",
    "version": 3
   },
   "file_extension": ".py",
   "mimetype": "text/x-python",
   "name": "python",
   "nbconvert_exporter": "python",
   "pygments_lexer": "ipython3",
   "version": "3.7.4"
  }
 },
 "nbformat": 4,
 "nbformat_minor": 2
}
