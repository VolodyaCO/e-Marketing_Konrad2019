{
 "cells": [
  {
   "cell_type": "markdown",
   "metadata": {},
   "source": [
    "# Instala las librerías necesarias:\n",
    "\n",
    "`pip install selenium beautifulsoup4`"
   ]
  },
  {
   "cell_type": "code",
   "execution_count": 1,
   "metadata": {},
   "outputs": [
    {
     "name": "stdout",
     "output_type": "stream",
     "text": [
      "Collecting selenium\n",
      "\u001b[?25l  Downloading https://files.pythonhosted.org/packages/80/d6/4294f0b4bce4de0abf13e17190289f9d0613b0a44e5dd6a7f5ca98459853/selenium-3.141.0-py2.py3-none-any.whl (904kB)\n",
      "\u001b[K     |████████████████████████████████| 911kB 12.1MB/s eta 0:00:01\n",
      "\u001b[?25hRequirement already satisfied: beautifulsoup4 in /home/ingenieria/Escritorio/1234/lib/python3.7/site-packages (4.8.0)\n",
      "Requirement already satisfied: urllib3 in /home/ingenieria/Escritorio/1234/lib/python3.7/site-packages (from selenium) (1.24.2)\n",
      "Requirement already satisfied: soupsieve>=1.2 in /home/ingenieria/Escritorio/1234/lib/python3.7/site-packages (from beautifulsoup4) (1.9.3)\n",
      "Installing collected packages: selenium\n",
      "Successfully installed selenium-3.141.0\n"
     ]
    }
   ],
   "source": [
    "!pip install selenium beautifulsoup4"
   ]
  },
  {
   "cell_type": "markdown",
   "metadata": {},
   "source": [
    "# Instalar Google Chrome en Linux"
   ]
  },
  {
   "cell_type": "code",
   "execution_count": 2,
   "metadata": {},
   "outputs": [
    {
     "name": "stdout",
     "output_type": "stream",
     "text": [
      "--2019-11-29 11:05:32--  https://dl.google.com/linux/direct/google-chrome-stable_current_amd64.deb\n",
      "Resolviendo dl.google.com (dl.google.com)... 172.217.7.174, 2607:f8b0:4004:800::200e\n",
      "Conectando con dl.google.com (dl.google.com)[172.217.7.174]:443... conectado.\n",
      "Petición HTTP enviada, esperando respuesta... 200 OK\n",
      "Longitud: 62950548 (60M) [application/x-debian-package]\n",
      "Guardando como: “google-chrome-stable_current_amd64.deb”\n",
      "\n",
      "google-chrome-stabl 100%[===================>]  60,03M  1,44MB/s    en 41s     \n",
      "\n",
      "2019-11-29 11:06:13 (1,46 MB/s) - “google-chrome-stable_current_amd64.deb” guardado [62950548/62950548]\n",
      "\n"
     ]
    }
   ],
   "source": [
    "!wget https://dl.google.com/linux/direct/google-chrome-stable_current_amd64.deb"
   ]
  },
  {
   "cell_type": "code",
   "execution_count": 4,
   "metadata": {},
   "outputs": [
    {
     "name": "stdout",
     "output_type": "stream",
     "text": [
      "[sudo] contraseña para ingenieria: Seleccionando el paquete google-chrome-stable previamente no seleccionado.\n",
      "(Leyendo la base de datos ... 191811 ficheros o directorios instalados actualmente.)\n",
      "Preparando para desempaquetar google-chrome-stable_current_amd64.deb ...\n",
      "Desempaquetando google-chrome-stable (78.0.3904.108-1) ...\n",
      "Configurando google-chrome-stable (78.0.3904.108-1) ...\n",
      "update-alternatives: utilizando /usr/bin/google-chrome-stable para proveer /usr/bin/x-www-browser (x-www-browser) en modo automático\n",
      "update-alternatives: utilizando /usr/bin/google-chrome-stable para proveer /usr/bin/gnome-www-browser (gnome-www-browser) en modo automático\n",
      "update-alternatives: utilizando /usr/bin/google-chrome-stable para proveer /usr/bin/google-chrome (google-chrome) en modo automático\n",
      "Procesando disparadores para gnome-menus (3.13.3-11ubuntu1.1) ...\n",
      "Procesando disparadores para desktop-file-utils (0.23-1ubuntu3.18.04.2) ...\n",
      "Procesando disparadores para mime-support (3.60ubuntu1) ...\n",
      "Procesando disparadores para man-db (2.8.3-2ubuntu0.1) ...\n"
     ]
    }
   ],
   "source": [
    "!echo 1234|sudo -S dpkg -i google-chrome-stable_current_amd64.deb"
   ]
  },
  {
   "cell_type": "markdown",
   "metadata": {},
   "source": [
    "# Bajar ChromeDriver\n",
    "\n",
    "[Acá](https://chromedriver.chromium.org/downloads) puedes encontrar las diferentes versiones de ChromeDriver. Chequea tu versión de google Chrome para bajar el driver correcto"
   ]
  },
  {
   "cell_type": "code",
   "execution_count": 6,
   "metadata": {},
   "outputs": [
    {
     "name": "stdout",
     "output_type": "stream",
     "text": [
      "Google Chrome 78.0.3904.108 \r\n"
     ]
    }
   ],
   "source": [
    "!google-chrome --version"
   ]
  },
  {
   "cell_type": "code",
   "execution_count": 7,
   "metadata": {},
   "outputs": [
    {
     "name": "stdout",
     "output_type": "stream",
     "text": [
      "1_Introducción_a_Python_y_Pandas.ipynb\tPipfile\r\n",
      "california_housing_train.csv\t\tPipfile.lock\r\n",
      "chromedriver\t\t\t\tppc_suba_comentarios.json\r\n",
      "chromedriver_linux64.zip\t\tREADME.md\r\n",
      "crawl_all_restaurants.ipynb\t\trestaurantes_links.p\r\n",
      "google-chrome-stable_current_amd64.deb\tselenium_crawler.ipynb\r\n",
      "online_shoppers_intention.csv\t\tspider.py\r\n"
     ]
    }
   ],
   "source": [
    "!ls"
   ]
  },
  {
   "cell_type": "code",
   "execution_count": 21,
   "metadata": {},
   "outputs": [
    {
     "name": "stdout",
     "output_type": "stream",
     "text": [
      "\u001b[39m\u001b[1mInstalling \u001b[32m\u001b[1mnltk\u001b[39m\u001b[22m…\u001b[39m\u001b[22m\n",
      "\u001b[K\u001b[39m\u001b[1mAdding\u001b[39m\u001b[22m \u001b[32m\u001b[1mnltk\u001b[39m\u001b[22m \u001b[39m\u001b[1mto Pipfile's\u001b[39m\u001b[22m \u001b[31m\u001b[1m[packages]\u001b[39m\u001b[22m\u001b[39m\u001b[1m…\u001b[39m\u001b[22m\n",
      "\u001b[K\u001b[?25h✔ Installation Succeeded\u001b[0m \n",
      "\u001b[31m\u001b[1mPipfile.lock (686e51) out of date, updating to (ca0dcd)…\u001b[39m\u001b[22m\n",
      "\u001b[39m\u001b[22mLocking\u001b[39m\u001b[22m \u001b[31m\u001b[22m[dev-packages]\u001b[39m\u001b[22m \u001b[39m\u001b[22mdependencies…\u001b[39m\u001b[22m\n",
      "\u001b[39m\u001b[22mLocking\u001b[39m\u001b[22m \u001b[31m\u001b[22m[packages]\u001b[39m\u001b[22m \u001b[39m\u001b[22mdependencies…\u001b[39m\u001b[22m\n",
      "\u001b[K\u001b[?25h\u001b[32m\u001b[22m✔ Success!\u001b[39m\u001b[22m\u001b[0m \n",
      "\u001b[39m\u001b[1mUpdated Pipfile.lock (686e51)!\u001b[39m\u001b[22m\n",
      "\u001b[39m\u001b[1mInstalling dependencies from Pipfile.lock (686e51)…\u001b[39m\u001b[22m\n",
      "  🐍   \u001b[32m\u001b[1m▉\u001b[39m\u001b[22m\u001b[32m\u001b[1m▉\u001b[39m\u001b[22m\u001b[32m\u001b[1m▉\u001b[39m\u001b[22m\u001b[32m\u001b[1m▉\u001b[39m\u001b[22m\u001b[32m\u001b[1m▉\u001b[39m\u001b[22m\u001b[32m\u001b[1m▉\u001b[39m\u001b[22m\u001b[32m\u001b[1m▉\u001b[39m\u001b[22m\u001b[32m\u001b[1m▉\u001b[39m\u001b[22m\u001b[32m\u001b[1m▉\u001b[39m\u001b[22m\u001b[32m\u001b[1m▉\u001b[39m\u001b[22m\u001b[32m\u001b[1m▉\u001b[39m\u001b[22m\u001b[32m\u001b[1m▉\u001b[39m\u001b[22m\u001b[32m\u001b[1m▉\u001b[39m\u001b[22m\u001b[32m\u001b[1m▉\u001b[39m\u001b[22m\u001b[32m\u001b[1m▉\u001b[39m\u001b[22m\u001b[32m\u001b[1m▉\u001b[39m\u001b[22m\u001b[32m\u001b[1m▉\u001b[39m\u001b[22m\u001b[32m\u001b[1m▉\u001b[39m\u001b[22m\u001b[32m\u001b[1m▉\u001b[39m\u001b[22m\u001b[32m\u001b[1m▉\u001b[39m\u001b[22m\u001b[32m\u001b[1m▉\u001b[39m\u001b[22m\u001b[32m\u001b[1m▉\u001b[39m\u001b[22m\u001b[32m\u001b[1m▉\u001b[39m\u001b[22m\u001b[32m\u001b[1m▉\u001b[39m\u001b[22m\u001b[32m\u001b[1m▉\u001b[39m\u001b[22m\u001b[32m\u001b[1m▉\u001b[39m\u001b[22m\u001b[32m\u001b[1m▉\u001b[39m\u001b[22m\u001b[32m\u001b[1m▉\u001b[39m\u001b[22m\u001b[32m\u001b[1m▉\u001b[39m\u001b[22m\u001b[32m\u001b[1m▉\u001b[39m\u001b[22m\u001b[32m\u001b[1m▉\u001b[39m\u001b[22m\u001b[32m\u001b[1m▉\u001b[39m\u001b[22m 77/77 — \u001b[30m\u001b[22m00:00:12\u001b[39m\u001b[22mmmmmmmmmmmmmmmmmmmmmmmmmmmmmmmm\n",
      "\u001b[0m"
     ]
    }
   ],
   "source": [
    "# Instalación de NLTK\n",
    "\n",
    "!pip install nltk"
   ]
  },
  {
   "cell_type": "code",
   "execution_count": 22,
   "metadata": {},
   "outputs": [
    {
     "name": "stderr",
     "output_type": "stream",
     "text": [
      "[nltk_data] Downloading package stopwords to\n",
      "[nltk_data]     /home/vladimir/nltk_data...\n",
      "[nltk_data]   Unzipping corpora/stopwords.zip.\n"
     ]
    }
   ],
   "source": [
    "from selenium import webdriver\n",
    "from selenium.webdriver.common.keys import Keys\n",
    "from bs4 import BeautifulSoup\n",
    "import json\n",
    "import nltk\n",
    "nltk.download(\"stopwords\")\n",
    "from nltk.corpus import stopwords"
   ]
  },
  {
   "cell_type": "code",
   "execution_count": 3,
   "metadata": {},
   "outputs": [],
   "source": [
    "driver = webdriver.Chrome(executable_path=\"./chromedriver\")\n",
    "driver.get(\"https://domicilios.com/restaurantes/bogota/ppc-suba-menu?t=comentarios\")"
   ]
  },
  {
   "cell_type": "code",
   "execution_count": 4,
   "metadata": {},
   "outputs": [],
   "source": [
    "html = driver.page_source\n",
    "soup = BeautifulSoup(html, 'html.parser')"
   ]
  },
  {
   "cell_type": "code",
   "execution_count": 5,
   "metadata": {},
   "outputs": [],
   "source": [
    "s = soup.select(\"#reviewList > li\")"
   ]
  },
  {
   "cell_type": "code",
   "execution_count": 6,
   "metadata": {},
   "outputs": [],
   "source": [
    "info = []\n",
    "for review in soup.select(\"#reviewList > li\"):\n",
    "    text = review.select(\"[itemprop='description']\")[0].get_text()\n",
    "    author = review.select(\"div.small\")[0].get_text()\n",
    "    previousOrders = review.select(\"div.small\")[1][\"title\"].split()[0]\n",
    "    previousReviews = review.select(\"div.small\")[2][\"title\"].split()[0]\n",
    "    date = review.select(\"[itemprop='datePublished']\")[0].get_text()\n",
    "    worstRating = review.select(\"[itemprop='worstRating']\")[0][\"content\"]\n",
    "    ratingValue = review.select(\"[itemprop='ratingValue']\")[0][\"content\"]\n",
    "    bestRating = review.select(\"[itemprop='bestRating']\")[0][\"content\"]\n",
    "    infoReview = dict(text=text, author=author, previousOrders=previousOrders, previousReviews=previousReviews,\n",
    "                     date=date, worstRating=worstRating, ratingValue=ratingValue, bestRating=bestRating)\n",
    "    info.append(infoReview)"
   ]
  },
  {
   "cell_type": "code",
   "execution_count": 7,
   "metadata": {},
   "outputs": [
    {
     "name": "stdout",
     "output_type": "stream",
     "text": [
      "[{'text': 'Parecía arroz del día anterior, trasnochado y de mal gusto', 'author': 'Raul fernando', 'previousOrders': '2', 'previousReviews': '0', 'date': '21 sep, 2019', 'worstRating': '1', 'ratingValue': '3.7', 'bestRating': '5'}, {'text': 'El pollo más rico que tiene colombia ❤?❤?', 'author': 'Andres  ramos', 'previousOrders': '25', 'previousReviews': '0', 'date': '25 jul, 2019', 'worstRating': '1', 'ratingValue': '5.0', 'bestRating': '5'}, {'text': 'redimi y cupón de $7.000 y me cobraron la cuenta completa sin el descuento del cupon', 'author': 'Camilo espitia', 'previousOrders': '266', 'previousReviews': '0', 'date': '20 jun, 2019', 'worstRating': '1', 'ratingValue': '4.0', 'bestRating': '5'}, {'text': 'Excelente servicio, el domiciliario es muy respetuoso y amable', 'author': 'Laura sanchez', 'previousOrders': '274', 'previousReviews': '0', 'date': '09 jun, 2019', 'worstRating': '1', 'ratingValue': '5.0', 'bestRating': '5'}, {'text': 'Gratamente Sorprendida, han Mejorado la calidad del servicio ', 'author': 'Luz angela franco gallego', 'previousOrders': '98', 'previousReviews': '0', 'date': '03 jun, 2019', 'worstRating': '1', 'ratingValue': '4.5', 'bestRating': '5'}, {'text': 'Excelente todo. Gracias por leer los comentarios!', 'author': 'Marcela morales', 'previousOrders': '69', 'previousReviews': '0', 'date': '03 jun, 2019', 'worstRating': '1', 'ratingValue': '5.0', 'bestRating': '5'}, {'text': 'Buen servicio.  Un poco demorado en llegar pero es entendible. Podían tener mucho trabajo en esa hora. La comida que me llego muy muy muuuy regular, mal sabor, me hizo daño, no pude comer todo ya que no era agradable el sabor  ', 'author': 'Diego benitez', 'previousOrders': '24', 'previousReviews': '0', 'date': '02 jun, 2019', 'worstRating': '1', 'ratingValue': '2.0', 'bestRating': '5'}, {'text': 'llego muy tarde y fuera de todo incompleto', 'author': '7856194_name', 'previousOrders': '220', 'previousReviews': '0', 'date': '01 jun, 2019', 'worstRating': '1', 'ratingValue': '3.0', 'bestRating': '5'}, {'text': 'No cumplió Con El Tiempo Mostrado En El Momento De La Compra. ', 'author': 'Jaris meza cantillo', 'previousOrders': '15', 'previousReviews': '0', 'date': '01 jun, 2019', 'worstRating': '1', 'ratingValue': '3.5', 'bestRating': '5'}, {'text': 'No ayudan a solucionar ', 'author': 'Andrea martinez', 'previousOrders': '27', 'previousReviews': '0', 'date': '01 jun, 2019', 'worstRating': '1', 'ratingValue': '2.5', 'bestRating': '5'}]\n"
     ]
    }
   ],
   "source": [
    "print(info)"
   ]
  },
  {
   "cell_type": "code",
   "execution_count": 8,
   "metadata": {},
   "outputs": [
    {
     "name": "stdout",
     "output_type": "stream",
     "text": [
      "2\n"
     ]
    }
   ],
   "source": [
    "button = driver.find_element_by_css_selector(\"#reviewListContainer > footer > ul > li.arrow.next > button\")\n",
    "print(button.get_attribute(\"data-page\"))\n",
    "button.click()"
   ]
  },
  {
   "cell_type": "code",
   "execution_count": 9,
   "metadata": {},
   "outputs": [],
   "source": [
    "driver.quit()"
   ]
  },
  {
   "cell_type": "markdown",
   "metadata": {},
   "source": [
    "# Todo funciona perfecto! :-D\n",
    "\n",
    "Ahora volvamos esto una función para iterar sobre todas las páginas de los comentarios de nuestro restaurante de ejemplo"
   ]
  },
  {
   "cell_type": "code",
   "execution_count": 10,
   "metadata": {},
   "outputs": [],
   "source": [
    "import time"
   ]
  },
  {
   "cell_type": "code",
   "execution_count": 28,
   "metadata": {},
   "outputs": [],
   "source": [
    "def download_domicilios(website):\n",
    "    driver = webdriver.Chrome(executable_path=\"./chromedriver\")\n",
    "    driver.get(website)\n",
    "    driver.implicitly_wait(100)\n",
    "    info = []\n",
    "    pages = []\n",
    "    while True:\n",
    "        try:\n",
    "            html = driver.page_source ###\n",
    "            soup = BeautifulSoup(html, 'html.parser')  ###\n",
    "            button = driver.find_element_by_css_selector(\"#reviewListContainer > footer > ul > li.arrow.next > button\")\n",
    "            numPage = button.get_attribute(\"data-page\")\n",
    "            reviews = soup.select(\"#reviewList > li\")\n",
    "            if len(reviews) < 9 or numPage in pages:\n",
    "                driver.quit()\n",
    "                raise ValueError(\"numPage {0} was already visited\".format(numPage))\n",
    "            else:\n",
    "                pages.append(numPage)\n",
    "            for review in reviews:\n",
    "                text = review.select(\"[itemprop='description']\")[0].get_text()\n",
    "                author = review.select(\"div.small\")[0].get_text()\n",
    "                previousOrders = review.select(\"div.small\")[1][\"title\"].split()[0]\n",
    "                previousReviews = review.select(\"div.small\")[2][\"title\"].split()[0]\n",
    "                date = review.select(\"[itemprop='datePublished']\")[0].get_text()\n",
    "                worstRating = review.select(\"[itemprop='worstRating']\")[0][\"content\"]\n",
    "                ratingValue = review.select(\"[itemprop='ratingValue']\")[0][\"content\"]\n",
    "                bestRating = review.select(\"[itemprop='bestRating']\")[0][\"content\"]\n",
    "                infoReview = dict(text=text, author=author, previousOrders=previousOrders, previousReviews=previousReviews,\n",
    "                                 date=date, worstRating=worstRating, ratingValue=ratingValue, bestRating=bestRating)\n",
    "                info.append(infoReview)\n",
    "            print('Currently at page {0} and {1} reviews'.format(numPage, len(info)))\n",
    "            button.click()\n",
    "            time.sleep(3)\n",
    "        except Exception as e:\n",
    "            print(e)\n",
    "            break\n",
    "    return info"
   ]
  },
  {
   "cell_type": "code",
   "execution_count": 29,
   "metadata": {},
   "outputs": [
    {
     "name": "stdout",
     "output_type": "stream",
     "text": [
      "Currently at page 2 and 10 reviews\n",
      "Currently at page 3 and 20 reviews\n",
      "Currently at page 4 and 30 reviews\n",
      "Currently at page 5 and 40 reviews\n",
      "Currently at page 6 and 50 reviews\n",
      "Currently at page 7 and 60 reviews\n",
      "Currently at page 8 and 70 reviews\n",
      "Currently at page 9 and 80 reviews\n",
      "Currently at page 10 and 90 reviews\n",
      "Currently at page 11 and 100 reviews\n",
      "Currently at page 12 and 110 reviews\n",
      "Currently at page 13 and 120 reviews\n",
      "Currently at page 14 and 130 reviews\n",
      "Currently at page 15 and 140 reviews\n",
      "Currently at page 16 and 150 reviews\n",
      "Currently at page 17 and 160 reviews\n",
      "Currently at page 18 and 170 reviews\n",
      "Currently at page 19 and 180 reviews\n",
      "Currently at page 20 and 190 reviews\n",
      "Currently at page 21 and 200 reviews\n",
      "Currently at page 22 and 210 reviews\n",
      "Currently at page 23 and 220 reviews\n",
      "Currently at page 24 and 230 reviews\n",
      "Currently at page 25 and 240 reviews\n",
      "Currently at page 26 and 250 reviews\n",
      "Currently at page 27 and 260 reviews\n",
      "Currently at page 28 and 270 reviews\n",
      "Currently at page 29 and 280 reviews\n",
      "Currently at page 30 and 290 reviews\n",
      "Currently at page 31 and 300 reviews\n",
      "Currently at page 32 and 310 reviews\n",
      "Currently at page 33 and 320 reviews\n",
      "Currently at page 34 and 330 reviews\n",
      "Currently at page 35 and 340 reviews\n",
      "Currently at page 36 and 350 reviews\n",
      "Currently at page 37 and 360 reviews\n",
      "Currently at page 38 and 370 reviews\n",
      "Currently at page 39 and 380 reviews\n",
      "Currently at page 40 and 390 reviews\n",
      "Currently at page 41 and 400 reviews\n",
      "Currently at page 42 and 410 reviews\n",
      "Currently at page 43 and 420 reviews\n",
      "Currently at page 44 and 430 reviews\n",
      "Currently at page 45 and 440 reviews\n",
      "Currently at page 46 and 450 reviews\n",
      "Currently at page 47 and 460 reviews\n",
      "Currently at page 48 and 470 reviews\n",
      "Currently at page 49 and 480 reviews\n",
      "Currently at page 50 and 490 reviews\n",
      "Currently at page 51 and 500 reviews\n",
      "Currently at page 52 and 510 reviews\n",
      "Currently at page 53 and 520 reviews\n",
      "Currently at page 54 and 530 reviews\n",
      "Currently at page 55 and 540 reviews\n",
      "Currently at page 56 and 550 reviews\n",
      "Currently at page 57 and 560 reviews\n",
      "Currently at page 58 and 570 reviews\n",
      "Currently at page 59 and 580 reviews\n",
      "Currently at page 60 and 590 reviews\n",
      "Currently at page 61 and 600 reviews\n",
      "Currently at page 62 and 610 reviews\n",
      "Currently at page 63 and 620 reviews\n",
      "Currently at page 64 and 630 reviews\n",
      "Currently at page 65 and 640 reviews\n",
      "Currently at page 66 and 650 reviews\n",
      "Currently at page 67 and 660 reviews\n",
      "Currently at page 68 and 670 reviews\n",
      "Currently at page 69 and 680 reviews\n",
      "Currently at page 70 and 690 reviews\n",
      "Currently at page 71 and 700 reviews\n",
      "Currently at page 72 and 710 reviews\n",
      "Currently at page 73 and 720 reviews\n",
      "Currently at page 74 and 730 reviews\n",
      "Currently at page 75 and 740 reviews\n",
      "Currently at page 76 and 750 reviews\n",
      "Currently at page 77 and 760 reviews\n",
      "Currently at page 78 and 770 reviews\n",
      "Currently at page 79 and 780 reviews\n",
      "Currently at page 80 and 790 reviews\n",
      "Currently at page 81 and 800 reviews\n",
      "Currently at page 82 and 810 reviews\n",
      "Currently at page 83 and 820 reviews\n",
      "Currently at page 84 and 830 reviews\n",
      "Currently at page 85 and 840 reviews\n",
      "Currently at page 86 and 850 reviews\n",
      "Currently at page 87 and 860 reviews\n",
      "Currently at page 88 and 870 reviews\n",
      "Currently at page 89 and 880 reviews\n",
      "Currently at page 90 and 890 reviews\n",
      "Currently at page 91 and 900 reviews\n",
      "Currently at page 92 and 910 reviews\n",
      "Currently at page 93 and 920 reviews\n",
      "Currently at page 94 and 930 reviews\n",
      "Currently at page 95 and 940 reviews\n",
      "Currently at page 96 and 950 reviews\n",
      "Currently at page 97 and 960 reviews\n",
      "Currently at page 98 and 970 reviews\n",
      "Currently at page 99 and 980 reviews\n",
      "Currently at page 100 and 990 reviews\n",
      "Currently at page 101 and 1000 reviews\n",
      "Currently at page 102 and 1010 reviews\n",
      "Currently at page 103 and 1020 reviews\n",
      "Currently at page 104 and 1030 reviews\n",
      "Currently at page 105 and 1040 reviews\n",
      "Currently at page 106 and 1050 reviews\n",
      "Currently at page 107 and 1060 reviews\n",
      "Currently at page 108 and 1070 reviews\n",
      "Currently at page 109 and 1080 reviews\n",
      "Currently at page 110 and 1090 reviews\n",
      "Currently at page 111 and 1100 reviews\n",
      "Currently at page 112 and 1110 reviews\n",
      "Currently at page 113 and 1120 reviews\n",
      "Currently at page 114 and 1130 reviews\n",
      "Currently at page 115 and 1140 reviews\n",
      "Currently at page 116 and 1150 reviews\n",
      "Currently at page 117 and 1160 reviews\n",
      "Currently at page 118 and 1170 reviews\n",
      "numPage 2 was already visited\n"
     ]
    }
   ],
   "source": [
    "comentarios = download_domicilios(\"https://domicilios.com/restaurantes/bogota/ppc-suba-menu?t=comentarios\")"
   ]
  },
  {
   "cell_type": "code",
   "execution_count": 30,
   "metadata": {},
   "outputs": [
    {
     "name": "stdout",
     "output_type": "stream",
     "text": [
      "Different authors: 951\n"
     ]
    }
   ],
   "source": [
    "authors = [r['author'] for r in comentarios]\n",
    "print('Different authors:', len(set(authors)))"
   ]
  },
  {
   "cell_type": "code",
   "execution_count": 31,
   "metadata": {},
   "outputs": [],
   "source": [
    "# Guardar la información a un archivo con json\n",
    "with open(\"ppc_suba_comentarios.json\", \"w\") as f:\n",
    "    json.dump(comentarios, f)"
   ]
  },
  {
   "cell_type": "code",
   "execution_count": 24,
   "metadata": {},
   "outputs": [],
   "source": [
    "# Leer la información de un archivo\n",
    "with open(\"ppc_suba_comentarios.json\", \"r\") as f:\n",
    "    comentarios = json.load(f)"
   ]
  },
  {
   "cell_type": "code",
   "execution_count": 32,
   "metadata": {},
   "outputs": [
    {
     "data": {
      "text/plain": [
       "['hola', 'nombre', 'vladimir']"
      ]
     },
     "execution_count": 32,
     "metadata": {},
     "output_type": "execute_result"
    }
   ],
   "source": [
    "def removeStopwords( palabras ):\n",
    "     return [ word for word in palabras if word\\\n",
    "             not in stopwords.words('spanish') ]\n",
    "    \n",
    "removeStopwords(\"de para cuando hola mi nombre es vladimir\".split())"
   ]
  },
  {
   "cell_type": "code",
   "execution_count": 33,
   "metadata": {},
   "outputs": [],
   "source": [
    "def remove_punct(text):\n",
    "    signos = \", . ; : ! ? ¿ ¡\".split()\n",
    "    for s in signos:\n",
    "        text = text.replace(s, \"\")\n",
    "    # Todo a minúsculas\n",
    "    text = text.lower()\n",
    "    text = \" \".join(removeStopwords(text.split()))\n",
    "    return text.lower()"
   ]
  },
  {
   "cell_type": "code",
   "execution_count": 34,
   "metadata": {},
   "outputs": [],
   "source": [
    "for com in comentarios:\n",
    "    com['texto_nopunct'] = remove_punct(com['text'])"
   ]
  },
  {
   "cell_type": "code",
   "execution_count": 35,
   "metadata": {},
   "outputs": [],
   "source": [
    "# Guardar la información a un archivo con json\n",
    "with open(\"ppc_suba_comentarios_limpios.json\", \"w\") as f:\n",
    "    json.dump(comentarios, f)"
   ]
  },
  {
   "cell_type": "code",
   "execution_count": null,
   "metadata": {},
   "outputs": [],
   "source": []
  }
 ],
 "metadata": {
  "kernelspec": {
   "display_name": "Python 3",
   "language": "python",
   "name": "python3"
  },
  "language_info": {
   "codemirror_mode": {
    "name": "ipython",
    "version": 3
   },
   "file_extension": ".py",
   "mimetype": "text/x-python",
   "name": "python",
   "nbconvert_exporter": "python",
   "pygments_lexer": "ipython3",
   "version": "3.7.5"
  }
 },
 "nbformat": 4,
 "nbformat_minor": 2
}
