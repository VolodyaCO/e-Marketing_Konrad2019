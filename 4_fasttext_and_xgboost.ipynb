{
 "cells": [
  {
   "cell_type": "markdown",
   "metadata": {},
   "source": [
    "# fasttext \n",
    "\n",
    "Este modelo crea vectores en un espacio vectorial de $N$ dimensiones (N seleccionado por el usuario) que capturan la semántica del texto analizado"
   ]
  },
  {
   "cell_type": "code",
   "execution_count": null,
   "metadata": {},
   "outputs": [],
   "source": [
    "!pip install fasttext"
   ]
  },
  {
   "cell_type": "code",
   "execution_count": null,
   "metadata": {},
   "outputs": [],
   "source": [
    "!pip install xgboost"
   ]
  },
  {
   "cell_type": "code",
   "execution_count": 1,
   "metadata": {},
   "outputs": [],
   "source": [
    "import fasttext\n",
    "import xgboost as xgb\n",
    "import json\n",
    "import numpy as np"
   ]
  },
  {
   "cell_type": "code",
   "execution_count": 2,
   "metadata": {},
   "outputs": [],
   "source": [
    "# Leer la información de un archivo\n",
    "with open(\"ppc_suba_comentarios_limpios.json\", \"r\") as f:\n",
    "    comentarios = json.load(f)"
   ]
  },
  {
   "cell_type": "code",
   "execution_count": 3,
   "metadata": {},
   "outputs": [],
   "source": [
    "# Creamos un archivo txt con todos los comentarios con los que vamos a entrenar fastText\n",
    "with open(\"archivo_con_comentarios.txt\", \"w\") as f:\n",
    "    for c in comentarios:\n",
    "        f.write(c['texto_nopunct'])\n",
    "        f.write(\"\\n\")"
   ]
  },
  {
   "cell_type": "code",
   "execution_count": 4,
   "metadata": {},
   "outputs": [],
   "source": [
    "# El modelo acepta muchos parámetros (leer la documentación: https://fasttext.cc/docs/en/options.html)\n",
    "modelo = fasttext.train_unsupervised(\"archivo_con_comentarios.txt\", dim=20)"
   ]
  },
  {
   "cell_type": "code",
   "execution_count": 5,
   "metadata": {},
   "outputs": [],
   "source": [
    "for com in comentarios:\n",
    "    com['vector'] = modelo.get_sentence_vector(com['texto_nopunct'])"
   ]
  },
  {
   "cell_type": "markdown",
   "metadata": {},
   "source": [
    "# Preparar datos para XGBoost\n",
    "\n",
    "La idea de pasar de comentarios a vectores es poder utilizar la información numérica de los vectores para entrenar un modelo para predecir cierta característica. En nuestro caso, queremos predecir la característica del puntaje.\n",
    "\n",
    "Para ello, debemos tener una matriz `X` cuyas filas sean los vectores de los textos, y debemos tener un vector `y` cuyas componentes sean el valor que queremos predecir. A cada fila de X le corresponde una componente de `y`."
   ]
  },
  {
   "cell_type": "code",
   "execution_count": 6,
   "metadata": {},
   "outputs": [
    {
     "data": {
      "text/plain": [
       "{'text': 'Parecía arroz del día anterior, trasnochado y de mal gusto',\n",
       " 'author': 'Raul fernando',\n",
       " 'previousOrders': '2',\n",
       " 'previousReviews': '0',\n",
       " 'date': '21 sep, 2019',\n",
       " 'worstRating': '1',\n",
       " 'ratingValue': '3.7',\n",
       " 'bestRating': '5',\n",
       " 'texto_nopunct': 'parecía arroz día anterior trasnochado mal gusto',\n",
       " 'vector': array([-5.56163549e-01,  1.06958136e-01,  2.33587213e-02, -3.35367881e-02,\n",
       "         3.42118699e-04, -1.12064362e-01,  3.09867978e-01, -4.78461869e-02,\n",
       "         1.09451212e-01,  9.25285518e-02, -2.13167474e-01,  1.26039490e-01,\n",
       "         1.01586543e-01,  2.36847587e-02, -2.81911731e-01, -1.66210607e-01,\n",
       "        -1.85772210e-01,  2.92397976e-01,  7.91760068e-03, -3.85352761e-01],\n",
       "       dtype=float32)}"
      ]
     },
     "execution_count": 6,
     "metadata": {},
     "output_type": "execute_result"
    }
   ],
   "source": [
    "comentarios[0]"
   ]
  },
  {
   "cell_type": "code",
   "execution_count": 7,
   "metadata": {},
   "outputs": [],
   "source": [
    "X = np.array( [com['vector'] for com in comentarios] )\n",
    "y = np.array( [float(com['ratingValue']) for com in comentarios] )"
   ]
  },
  {
   "cell_type": "code",
   "execution_count": 8,
   "metadata": {},
   "outputs": [
    {
     "data": {
      "text/plain": [
       "(1170, 20)"
      ]
     },
     "execution_count": 8,
     "metadata": {},
     "output_type": "execute_result"
    }
   ],
   "source": [
    "X.shape"
   ]
  },
  {
   "cell_type": "code",
   "execution_count": 9,
   "metadata": {},
   "outputs": [
    {
     "data": {
      "text/plain": [
       "(1170,)"
      ]
     },
     "execution_count": 9,
     "metadata": {},
     "output_type": "execute_result"
    }
   ],
   "source": [
    "y.shape"
   ]
  },
  {
   "cell_type": "code",
   "execution_count": 10,
   "metadata": {},
   "outputs": [],
   "source": [
    "from sklearn.model_selection import train_test_split"
   ]
  },
  {
   "cell_type": "code",
   "execution_count": 11,
   "metadata": {},
   "outputs": [],
   "source": [
    "X_train, X_test, y_train, y_test = train_test_split(X, y, test_size=0.33)"
   ]
  },
  {
   "cell_type": "code",
   "execution_count": 12,
   "metadata": {},
   "outputs": [],
   "source": [
    "# Declaramos el objeto de regresor de XGBoost\n",
    "\n",
    "reg = xgb.XGBRegressor(max_depth=3, learning_rate=0.1,\n",
    "                         n_estimators=100)"
   ]
  },
  {
   "cell_type": "code",
   "execution_count": 13,
   "metadata": {},
   "outputs": [
    {
     "name": "stdout",
     "output_type": "stream",
     "text": [
      "[08:20:04] WARNING: /workspace/src/objective/regression_obj.cu:152: reg:linear is now deprecated in favor of reg:squarederror.\n"
     ]
    },
    {
     "data": {
      "text/plain": [
       "XGBRegressor(base_score=0.5, booster='gbtree', colsample_bylevel=1,\n",
       "             colsample_bynode=1, colsample_bytree=1, gamma=0,\n",
       "             importance_type='gain', learning_rate=0.1, max_delta_step=0,\n",
       "             max_depth=3, min_child_weight=1, missing=None, n_estimators=100,\n",
       "             n_jobs=1, nthread=None, objective='reg:linear', random_state=0,\n",
       "             reg_alpha=0, reg_lambda=1, scale_pos_weight=1, seed=None,\n",
       "             silent=None, subsample=1, verbosity=1)"
      ]
     },
     "execution_count": 13,
     "metadata": {},
     "output_type": "execute_result"
    }
   ],
   "source": [
    "reg.fit(X_train, y_train)"
   ]
  },
  {
   "cell_type": "code",
   "execution_count": 14,
   "metadata": {},
   "outputs": [],
   "source": [
    "y_train_predicted = reg.predict(X_train)"
   ]
  },
  {
   "cell_type": "markdown",
   "metadata": {},
   "source": [
    "Para medir errores de regresión existen varias métricas. Nosotros nos vamos a concentrar en el error cuadrático medio. Este se define de la siguiente manera. Supongamos que tenemos los puntajes verdaderos de los comentarios. Denotamos el $i$-ésimo puntaje verdadero como $y_i$. Y denotamos la predicción del regresor del puntaje $i$-ésimo como $\\hat{y}_i$. Por lo tanto, el error cuadrático medio es\n",
    "\n",
    "$$\\frac{1}{M}\\sum_{i=1}^M (y_i - \\hat{y}_i)^2$$\n",
    "\n",
    "en donde $M$ es el número total de puntajes."
   ]
  },
  {
   "cell_type": "code",
   "execution_count": 15,
   "metadata": {},
   "outputs": [],
   "source": [
    "from sklearn.metrics import mean_squared_error"
   ]
  },
  {
   "cell_type": "code",
   "execution_count": 18,
   "metadata": {},
   "outputs": [
    {
     "data": {
      "text/plain": [
       "0.6208267207997271"
      ]
     },
     "execution_count": 18,
     "metadata": {},
     "output_type": "execute_result"
    }
   ],
   "source": [
    "mean_squared_error(y_train_predicted, y_train)"
   ]
  },
  {
   "cell_type": "code",
   "execution_count": 19,
   "metadata": {},
   "outputs": [],
   "source": [
    "# También podemos ver un vector de errores para cada dato:\n",
    "errvec_train = y_train - y_train_predicted"
   ]
  },
  {
   "cell_type": "code",
   "execution_count": 20,
   "metadata": {},
   "outputs": [
    {
     "data": {
      "image/png": "[encoded data removed]",
      "text/plain": [
       "<Figure size 432x288 with 1 Axes>"
      ]
     },
     "metadata": {
      "needs_background": "light"
     },
     "output_type": "display_data"
    }
   ],
   "source": [
    "# Y podemos hacer un histograma de este para ver cómo está distribuido el error:\n",
    "import matplotlib.pyplot as plt\n",
    "\n",
    "plt.hist(errvec_train, bins=30)\n",
    "plt.show()"
   ]
  },
  {
   "cell_type": "code",
   "execution_count": 21,
   "metadata": {},
   "outputs": [
    {
     "data": {
      "text/plain": [
       "1.715000245478563"
      ]
     },
     "execution_count": 21,
     "metadata": {},
     "output_type": "execute_result"
    }
   ],
   "source": [
    "# Ahora veamos esto para el conjunto de prueba:\n",
    "y_test_predicted = reg.predict(X_test)\n",
    "mean_squared_error(y_test_predicted, y_test)"
   ]
  },
  {
   "cell_type": "code",
   "execution_count": 24,
   "metadata": {},
   "outputs": [
    {
     "data": {
      "image/png": "[encoded data removed]",
      "text/plain": [
       "<Figure size 432x288 with 1 Axes>"
      ]
     },
     "metadata": {
      "needs_background": "light"
     },
     "output_type": "display_data"
    }
   ],
   "source": [
    "# Es mucho más grande... es decir que el modelo está claramente sobre entrenado\n",
    "\n",
    "errvec_test = y_test - y_test_predicted\n",
    "\n",
    "plt.hist(errvec_test, bins=30)\n",
    "plt.show()"
   ]
  },
  {
   "cell_type": "code",
   "execution_count": 36,
   "metadata": {},
   "outputs": [
    {
     "name": "stdout",
     "output_type": "stream",
     "text": [
      "[08:31:02] WARNING: /workspace/src/objective/regression_obj.cu:152: reg:linear is now deprecated in favor of reg:squarederror.\n",
      "Error cuadrático medio en train: 1.658437621479618\n",
      "Error cuadrático medio en test: 1.9840329787422737\n"
     ]
    }
   ],
   "source": [
    "# Podemos jugar con los parámetros del regresor\n",
    "# Vamos a bajar la máxima profundidad a 2,\n",
    "# y vamos a bajar el número total de árboles a 20\n",
    "\n",
    "reg2 = xgb.XGBRegressor(max_depth=2, learning_rate=0.1,\n",
    "                         n_estimators=20)\n",
    "\n",
    "reg2.fit(X_train, y_train)\n",
    "\n",
    "y_train_predicted = reg2.predict(X_train)\n",
    "y_test_predicted = reg2.predict(X_test)\n",
    "\n",
    "print('Error cuadrático medio en train:', mean_squared_error(y_train_predicted, y_train))\n",
    "print('Error cuadrático medio en test:', mean_squared_error(y_test_predicted, y_test))"
   ]
  },
  {
   "cell_type": "code",
   "execution_count": 37,
   "metadata": {},
   "outputs": [
    {
     "data": {
      "image/png": "[encoded data removed]",
      "text/plain": [
       "<Figure size 432x288 with 1 Axes>"
      ]
     },
     "metadata": {
      "needs_background": "light"
     },
     "output_type": "display_data"
    },
    {
     "data": {
      "image/png": "[encoded data removed]",
      "text/plain": [
       "<Figure size 432x288 with 1 Axes>"
      ]
     },
     "metadata": {
      "needs_background": "light"
     },
     "output_type": "display_data"
    }
   ],
   "source": [
    "errvec_train = y_train - y_train_predicted\n",
    "\n",
    "plt.title('error en train')\n",
    "plt.hist(errvec_train, bins=30)\n",
    "plt.show()\n",
    "\n",
    "errvec_test = y_test - y_test_predicted\n",
    "\n",
    "plt.title('error en test')\n",
    "plt.hist(errvec_test, bins=30)\n",
    "plt.show()"
   ]
  },
  {
   "cell_type": "markdown",
   "metadata": {},
   "source": [
    "Ahora los errores son mucho más parecidos, lo cual es evidencia de que el modelo comete los mismos errores en ambos conjuntos de datos, por lo que el modelo no está sobre entrenado."
   ]
  },
  {
   "cell_type": "code",
   "execution_count": null,
   "metadata": {},
   "outputs": [],
   "source": []
  }
 ],
 "metadata": {
  "kernelspec": {
   "display_name": "Python 3",
   "language": "python",
   "name": "python3"
  },
  "language_info": {
   "codemirror_mode": {
    "name": "ipython",
    "version": 3
   },
   "file_extension": ".py",
   "mimetype": "text/x-python",
   "name": "python",
   "nbconvert_exporter": "python",
   "pygments_lexer": "ipython3",
   "version": "3.7.5"
  }
 },
 "nbformat": 4,
 "nbformat_minor": 2
}
